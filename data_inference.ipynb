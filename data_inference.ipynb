{
 "cells": [
  {
   "cell_type": "markdown",
   "id": "62040249",
   "metadata": {},
   "source": [
    "# **Data Inference**"
   ]
  },
  {
   "cell_type": "markdown",
   "id": "76d61542",
   "metadata": {},
   "source": [
    "## **I. Import Library**"
   ]
  },
  {
   "cell_type": "code",
   "execution_count": 15,
   "id": "22c42619",
   "metadata": {},
   "outputs": [],
   "source": [
    "import pandas as pd\n",
    "import numpy as np\n",
    "import pickle"
   ]
  },
  {
   "cell_type": "markdown",
   "id": "ce7efac8",
   "metadata": {},
   "source": [
    "## **II. Create Dummy Data**"
   ]
  },
  {
   "cell_type": "code",
   "execution_count": 20,
   "id": "6c952fe1",
   "metadata": {},
   "outputs": [
    {
     "name": "stdout",
     "output_type": "stream",
     "text": [
      "Data Dummy untuk Inference:\n",
      "         pm10       pm25       so2         co         o3        no2  \\\n",
      "0   62.435617   6.955527  6.506676  61.146940  13.081785  48.509647   \n",
      "1  143.100003  97.141436  2.255445  17.881888  50.022514  38.981508   \n",
      "2  112.479152  84.082051  3.629302   7.440108   4.404464  47.035448   \n",
      "3   93.812188  25.172216  4.297257  94.939668  91.022720  44.846540   \n",
      "4   31.842610  22.273372  5.104630  96.597571  26.619218  30.297099   \n",
      "5   31.839233  22.423428  8.066584  81.031337  66.589706  46.171838   \n",
      "6   18.131706  33.903013  2.797064  31.156763  31.859397   5.336133   \n",
      "7  131.264660  54.851861  5.628110  10.669539  52.486734  10.603160   \n",
      "8   94.156102  46.034777  6.331731  68.739070  55.124318   3.216137   \n",
      "9  109.130161  32.666768  1.418054  44.575097  19.300591  16.941186   \n",
      "\n",
      "         max             station critical category  \n",
      "0  51.094183  DKI1 (Bunderan HI)       CO   SEDANG  \n",
      "1  41.707923  DKI1 (Bunderan HI)       CO   SEDANG  \n",
      "2  86.299001  DKI1 (Bunderan HI)       CO   SEDANG  \n",
      "3  48.540266  DKI1 (Bunderan HI)       CO   SEDANG  \n",
      "4  42.474761  DKI1 (Bunderan HI)       CO   SEDANG  \n",
      "5  63.415687  DKI1 (Bunderan HI)       CO   SEDANG  \n",
      "6  31.273938  DKI1 (Bunderan HI)       CO   SEDANG  \n",
      "7  84.175758  DKI1 (Bunderan HI)       CO   SEDANG  \n",
      "8  25.964051  DKI1 (Bunderan HI)       CO   SEDANG  \n",
      "9  98.950955  DKI1 (Bunderan HI)       CO   SEDANG  \n"
     ]
    }
   ],
   "source": [
    "np.random.seed(42)\n",
    "\n",
    "data_dummy = pd.DataFrame({\n",
    "    'pm10': np.random.uniform(10, 150, size=10),\n",
    "    'pm25': np.random.uniform(5, 100, size=10),\n",
    "    'so2': np.random.uniform(1, 10, size=10),\n",
    "    'co': np.random.uniform(1, 100, size=10),\n",
    "    'o3': np.random.uniform(1, 100, size=10),\n",
    "    'no2': np.random.uniform(1, 50, size=10),\n",
    "    'max': np.random.uniform(20, 100, size=10),  \n",
    "    'station': ['DKI1 (Bunderan HI)'] * 10,       \n",
    "    'critical': ['CO'] * 10,\n",
    "    'category': ['SEDANG'] * 10             \n",
    "})\n",
    "\n",
    "\n",
    "print(\"Data Dummy untuk Inference:\")\n",
    "print(data_dummy)"
   ]
  },
  {
   "cell_type": "markdown",
   "id": "831b6087",
   "metadata": {},
   "source": [
    "## **III. Save the Dummy Data**"
   ]
  },
  {
   "cell_type": "code",
   "execution_count": 21,
   "id": "37c5f2c2",
   "metadata": {},
   "outputs": [],
   "source": [
    "data_dummy.to_csv('data_dummy_aqi_inference.csv', index=False)"
   ]
  },
  {
   "cell_type": "markdown",
   "id": "fb84aa63",
   "metadata": {},
   "source": [
    "## **IV. Load Model**"
   ]
  },
  {
   "cell_type": "code",
   "execution_count": 22,
   "id": "e07f6b85",
   "metadata": {},
   "outputs": [],
   "source": [
    "with open('best_model_rf.pkl', 'rb') as file:\n",
    "    best_model_rf = pickle.load(file)"
   ]
  },
  {
   "cell_type": "markdown",
   "id": "b704761a",
   "metadata": {},
   "source": [
    "## **V. Prediction**"
   ]
  },
  {
   "cell_type": "code",
   "execution_count": 23,
   "id": "af5d969d",
   "metadata": {},
   "outputs": [
    {
     "name": "stdout",
     "output_type": "stream",
     "text": [
      "\n",
      "Prediksi Air Quality Index (AQI) pada Data Dummy:\n",
      "[93.695 88.715 91.365 94.885 94.    93.375 94.    93.01  94.    94.   ]\n"
     ]
    }
   ],
   "source": [
    "predictions = best_model_rf.predict(data_dummy)\n",
    "\n",
    "print(\"\\nPrediksi Air Quality Index (AQI) pada Data Dummy:\")\n",
    "print(predictions)"
   ]
  },
  {
   "cell_type": "markdown",
   "id": "09ecd07f",
   "metadata": {},
   "source": [
    "- ``93.695:`` AQI prediksi untuk baris pertama data dummy.\n",
    "- ``88.715:`` AQI prediksi untuk baris kedua data dummy.\n",
    "- ...dan seterusnya."
   ]
  }
 ],
 "metadata": {
  "kernelspec": {
   "display_name": "base",
   "language": "python",
   "name": "python3"
  },
  "language_info": {
   "codemirror_mode": {
    "name": "ipython",
    "version": 3
   },
   "file_extension": ".py",
   "mimetype": "text/x-python",
   "name": "python",
   "nbconvert_exporter": "python",
   "pygments_lexer": "ipython3",
   "version": "3.11.7"
  }
 },
 "nbformat": 4,
 "nbformat_minor": 5
}
